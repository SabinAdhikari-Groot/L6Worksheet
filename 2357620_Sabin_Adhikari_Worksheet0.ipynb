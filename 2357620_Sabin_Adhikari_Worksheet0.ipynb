{
  "nbformat": 4,
  "nbformat_minor": 0,
  "metadata": {
    "colab": {
      "provenance": []
    },
    "kernelspec": {
      "name": "python3",
      "display_name": "Python 3"
    },
    "language_info": {
      "name": "python"
    }
  },
  "cells": [
    {
      "cell_type": "markdown",
      "source": [
        "**4.1 Exercise on Functions:**"
      ],
      "metadata": {
        "id": "pgjpK6lK7Dsm"
      }
    },
    {
      "cell_type": "markdown",
      "source": [
        "**Task 1:**"
      ],
      "metadata": {
        "id": "BhHnlDeV7UK2"
      }
    },
    {
      "cell_type": "markdown",
      "source": [
        "Create a Python program that converts between different units of measurement."
      ],
      "metadata": {
        "id": "XVvH0tEY7Yx3"
      }
    },
    {
      "cell_type": "code",
      "execution_count": 1,
      "metadata": {
        "colab": {
          "base_uri": "https://localhost:8080/"
        },
        "id": "lV8Dz_6B5xWi",
        "outputId": "60947627-f80f-43f5-fda4-73f96d8be045"
      },
      "outputs": [
        {
          "output_type": "stream",
          "name": "stdout",
          "text": [
            "Unit Converter: Length, Weight, Volume\n",
            "1. Length (meters <-> feet)\n",
            "2. Weight (kilograms <-> pounds)\n",
            "3. Volume (liters <-> gallons)\n",
            "Choose conversion type (1-3): 2\n",
            "Enter the value to convert: 20\n",
            "Enter unit (kg for kilograms, lbs for pounds): kg\n",
            "Converted value: 44.0924\n"
          ]
        }
      ],
      "source": [
        "def convert_length(value, unit):\n",
        "\n",
        "    if unit == 'm':\n",
        "        return value * 3.28084  # 1 meter = 3.28084 feet\n",
        "    elif unit == 'ft':\n",
        "        return value / 3.28084  # 1 foot = 0.3048 meters\n",
        "    else:\n",
        "        raise ValueError(\"Unsupported length unit\")\n",
        "\n",
        "def convert_weight(value, unit):\n",
        "\n",
        "    if unit == 'kg':\n",
        "        return value * 2.20462  # 1 kg = 2.20462 lbs\n",
        "    elif unit == 'lbs':\n",
        "        return value / 2.20462  # 1 lb = 0.453592 kg\n",
        "    else:\n",
        "        raise ValueError(\"Unsupported weight unit\")\n",
        "\n",
        "def convert_volume(value, unit):\n",
        "\n",
        "    if unit == 'L':\n",
        "        return value * 0.264172  # 1 liter = 0.264172 gallons\n",
        "    elif unit == 'gal':\n",
        "        return value / 0.264172  # 1 gallon = 3.78541 liters\n",
        "    else:\n",
        "        raise ValueError(\"Unsupported volume unit\")\n",
        "\n",
        "print(\"Unit Converter: Length, Weight, Volume\")\n",
        "print(\"1. Length (meters <-> feet)\")\n",
        "print(\"2. Weight (kilograms <-> pounds)\")\n",
        "print(\"3. Volume (liters <-> gallons)\")\n",
        "\n",
        "try:\n",
        "    choice = int(input(\"Choose conversion type (1-3): \"))\n",
        "    value = float(input(\"Enter the value to convert: \"))\n",
        "\n",
        "    if choice == 1:\n",
        "        unit = input(\"Enter unit (m for meters, ft for feet): \").strip().lower()\n",
        "        converted = convert_length(value, unit)\n",
        "        print(f\"Converted value: {converted:.4f}\")\n",
        "    elif choice == 2:\n",
        "        unit = input(\"Enter unit (kg for kilograms, lbs for pounds): \").strip().lower()\n",
        "        converted = convert_weight(value, unit)\n",
        "        print(f\"Converted value: {converted:.4f}\")\n",
        "    elif choice == 3:\n",
        "        unit = input(\"Enter unit (L for liters, gal for gallons): \").strip().lower()\n",
        "        converted = convert_volume(value, unit)\n",
        "        print(f\"Converted value: {converted:.4f}\")\n",
        "    else:\n",
        "        print(\"Invalid choice. Please select a valid option.\")\n",
        "except ValueError as e:\n",
        "    print(f\"Error: {e}. Please enter a valid number and unit.\")\n"
      ]
    },
    {
      "cell_type": "markdown",
      "source": [
        "**Task - 2:**"
      ],
      "metadata": {
        "id": "E7y3XM5s73em"
      }
    },
    {
      "cell_type": "markdown",
      "source": [
        "Create a Python program that performs various mathematical operations on a list of numbers."
      ],
      "metadata": {
        "id": "trnsQJKA8Xhu"
      }
    },
    {
      "cell_type": "code",
      "source": [
        "def calculate_sum(numbers):\n",
        "\n",
        "    return sum(numbers)\n",
        "\n",
        "def calculate_average(numbers):\n",
        "\n",
        "    return sum(numbers) / len(numbers) if numbers else 0\n",
        "\n",
        "def find_maximum(numbers):\n",
        "\n",
        "    return max(numbers)\n",
        "\n",
        "def find_minimum(numbers):\n",
        "\n",
        "    return min(numbers)\n",
        "\n",
        "print(\"Mathematical Operations: Sum, Average, Maximum, Minimum\")\n",
        "print(\"1. Sum\")\n",
        "print(\"2. Average\")\n",
        "print(\"3. Maximum\")\n",
        "print(\"4. Minimum\")\n",
        "\n",
        "try:\n",
        "    choice = int(input(\"Choose an operation (1-4): \"))\n",
        "    numbers = list(map(float, input(\"Enter a list of numbers separated by spaces: \").split()))\n",
        "\n",
        "    if not numbers:\n",
        "        raise ValueError(\"The list of numbers cannot be empty.\")\n",
        "\n",
        "    if choice == 1:\n",
        "        result = calculate_sum(numbers)\n",
        "    elif choice == 2:\n",
        "        result = calculate_average(numbers)\n",
        "    elif choice == 3:\n",
        "        result = find_maximum(numbers)\n",
        "    elif choice == 4:\n",
        "        result = find_minimum(numbers)\n",
        "    else:\n",
        "        print(\"Invalid choice. Please select a valid option.\")\n",
        "        exit()\n",
        "\n",
        "    print(f\"Result: {result}\")\n",
        "except ValueError as e:\n",
        "    print(f\"Error: {e}. Please enter a valid input.\")\n"
      ],
      "metadata": {
        "colab": {
          "base_uri": "https://localhost:8080/"
        },
        "id": "KXuCekao78CD",
        "outputId": "33f8f4be-56f2-47be-d07d-81fbb63016f9"
      },
      "execution_count": 2,
      "outputs": [
        {
          "output_type": "stream",
          "name": "stdout",
          "text": [
            "Mathematical Operations: Sum, Average, Maximum, Minimum\n",
            "1. Sum\n",
            "2. Average\n",
            "3. Maximum\n",
            "4. Minimum\n",
            "Choose an operation (1-4): 2\n",
            "Enter a list of numbers separated by spaces: 3 4 5 7 9 2\n",
            "Result: 5.0\n"
          ]
        }
      ]
    },
    {
      "cell_type": "markdown",
      "source": [
        "**4.2 Exercise on List Manipulation:**"
      ],
      "metadata": {
        "id": "EkaKNcNi8hQS"
      }
    },
    {
      "cell_type": "markdown",
      "source": [
        "**1. Extract Every Other Element:**"
      ],
      "metadata": {
        "id": "5TRwKJ2h8lra"
      }
    },
    {
      "cell_type": "markdown",
      "source": [
        "Write a Python function that extracts every other element from a list, starting from the first element."
      ],
      "metadata": {
        "id": "MfiMsE0o8oEl"
      }
    },
    {
      "cell_type": "code",
      "source": [
        "def extract_every_other(lst):\n",
        "\n",
        "    return lst[::2]\n",
        "\n",
        "\n",
        "data = [1, 2, 3, 4, 5, 6]\n",
        "result = extract_every_other(data)\n",
        "print(result)"
      ],
      "metadata": {
        "colab": {
          "base_uri": "https://localhost:8080/"
        },
        "id": "CPwtxhds8rSJ",
        "outputId": "c58f13b0-dc9a-45b1-9641-402a7f61f022"
      },
      "execution_count": 3,
      "outputs": [
        {
          "output_type": "stream",
          "name": "stdout",
          "text": [
            "[1, 3, 5]\n"
          ]
        }
      ]
    },
    {
      "cell_type": "markdown",
      "source": [
        "**2. Slice a Sublist:**"
      ],
      "metadata": {
        "id": "9BfJpMoe87bK"
      }
    },
    {
      "cell_type": "markdown",
      "source": [
        "Write a Python function that returns a sublist from a given list, starting from a specified index and\n",
        "ending at another specified index."
      ],
      "metadata": {
        "id": "a_wEolBc8_ji"
      }
    },
    {
      "cell_type": "code",
      "source": [
        "def get_sublist(lst, start, end):\n",
        "\n",
        "    return lst[start:end+1]\n",
        "\n",
        "data = [1, 2, 3, 4, 5, 6]\n",
        "result = get_sublist(data, 2, 4)\n",
        "print(result)\n"
      ],
      "metadata": {
        "colab": {
          "base_uri": "https://localhost:8080/"
        },
        "id": "DzKGTCAo9B1P",
        "outputId": "c59d73ec-9945-40f7-d77a-1e2f42f1a8e8"
      },
      "execution_count": 4,
      "outputs": [
        {
          "output_type": "stream",
          "name": "stdout",
          "text": [
            "[3, 4, 5]\n"
          ]
        }
      ]
    },
    {
      "cell_type": "markdown",
      "source": [
        "**3. Reverse a List Using Slicing:**"
      ],
      "metadata": {
        "id": "oMMmlfSr9N_M"
      }
    },
    {
      "cell_type": "markdown",
      "source": [
        "Write a Python function that reverses a list using slicing."
      ],
      "metadata": {
        "id": "yeSnvTgD9Qty"
      }
    },
    {
      "cell_type": "code",
      "source": [
        "def reverse_list(lst):\n",
        "\n",
        "    return lst[::-1]\n",
        "\n",
        "data = [1, 2, 3, 4, 5]\n",
        "result = reverse_list(data)\n",
        "print(result)"
      ],
      "metadata": {
        "colab": {
          "base_uri": "https://localhost:8080/"
        },
        "id": "1lbDr5i39S8b",
        "outputId": "1853a77b-1e03-4916-9d2e-0bed84dece4b"
      },
      "execution_count": 5,
      "outputs": [
        {
          "output_type": "stream",
          "name": "stdout",
          "text": [
            "[5, 4, 3, 2, 1]\n"
          ]
        }
      ]
    },
    {
      "cell_type": "markdown",
      "source": [
        "**4. Remove the First and Last Elements:**"
      ],
      "metadata": {
        "id": "yhAJXXpj9czs"
      }
    },
    {
      "cell_type": "markdown",
      "source": [
        "Write a Python function that removes the first and last elements of a list and returns the resulting\n",
        "sublist."
      ],
      "metadata": {
        "id": "i-OC7BY19f3r"
      }
    },
    {
      "cell_type": "code",
      "source": [
        "def remove_first_last(lst):\n",
        "\n",
        "    return lst[1:-1]\n",
        "\n",
        "data = [1, 2, 3, 4, 5]\n",
        "result = remove_first_last(data)\n",
        "print(result)"
      ],
      "metadata": {
        "colab": {
          "base_uri": "https://localhost:8080/"
        },
        "id": "-Wod3P4j9iAR",
        "outputId": "d939431d-681e-4ab3-934e-34d702ead697"
      },
      "execution_count": 6,
      "outputs": [
        {
          "output_type": "stream",
          "name": "stdout",
          "text": [
            "[2, 3, 4]\n"
          ]
        }
      ]
    },
    {
      "cell_type": "markdown",
      "source": [
        "**5. Get the First n Elements:**"
      ],
      "metadata": {
        "id": "LWKUgyu39p_u"
      }
    },
    {
      "cell_type": "markdown",
      "source": [
        "Write a Python function that extracts the first n elements from a list."
      ],
      "metadata": {
        "id": "Ev8FAuyv9sVB"
      }
    },
    {
      "cell_type": "code",
      "source": [
        "def get_first_n(lst, n):\n",
        "\n",
        "    return lst[:n]\n",
        "\n",
        "data = [1, 2, 3, 4, 5]\n",
        "result = get_first_n(data, 3)\n",
        "print(result)"
      ],
      "metadata": {
        "colab": {
          "base_uri": "https://localhost:8080/"
        },
        "id": "BrF7Xrp69ujt",
        "outputId": "89e964d7-2025-4e3b-e48b-8da6e87efa87"
      },
      "execution_count": 7,
      "outputs": [
        {
          "output_type": "stream",
          "name": "stdout",
          "text": [
            "[1, 2, 3]\n"
          ]
        }
      ]
    },
    {
      "cell_type": "markdown",
      "source": [
        "**6. Extract Elements from the End:**"
      ],
      "metadata": {
        "id": "WE48NQY_93ag"
      }
    },
    {
      "cell_type": "markdown",
      "source": [
        "Write a Python function that extracts the last n elements of a list using slicing."
      ],
      "metadata": {
        "id": "DxOII7-295u1"
      }
    },
    {
      "cell_type": "code",
      "source": [
        "def get_last_n(lst, n):\n",
        "    return lst[-n:]\n",
        "\n",
        "data = [1, 2, 3, 4, 5]\n",
        "result = get_last_n(data, 2)\n",
        "print(result)"
      ],
      "metadata": {
        "colab": {
          "base_uri": "https://localhost:8080/"
        },
        "id": "A_vbmPku97on",
        "outputId": "10775dc7-29bb-4414-bfdf-8fb6d87a3f39"
      },
      "execution_count": 8,
      "outputs": [
        {
          "output_type": "stream",
          "name": "stdout",
          "text": [
            "[4, 5]\n"
          ]
        }
      ]
    },
    {
      "cell_type": "markdown",
      "source": [
        "**7. Extract Elements in Reverse Order:**"
      ],
      "metadata": {
        "id": "FoEOQskN-RxA"
      }
    },
    {
      "cell_type": "markdown",
      "source": [
        "Write a Python function that extracts a list of elements in reverse order starting from the second-to-last\n",
        "element and skipping one element in between."
      ],
      "metadata": {
        "id": "o3J9ZSst-Vur"
      }
    },
    {
      "cell_type": "code",
      "source": [
        "def reverse_skip(lst):\n",
        "    return lst[-2::-2]\n",
        "\n",
        "input_list = [1, 2, 3, 4, 5, 6]\n",
        "output_list = reverse_skip(input_list)\n",
        "print(output_list)\n"
      ],
      "metadata": {
        "colab": {
          "base_uri": "https://localhost:8080/"
        },
        "id": "2xj6bEHg-YUc",
        "outputId": "f14dc297-dbe1-40e8-8bd3-958c5a914062"
      },
      "execution_count": 9,
      "outputs": [
        {
          "output_type": "stream",
          "name": "stdout",
          "text": [
            "[5, 3, 1]\n"
          ]
        }
      ]
    },
    {
      "cell_type": "markdown",
      "source": [
        "**4.3 Exercise on Nested List:**"
      ],
      "metadata": {
        "id": "FoBvXxy1-n2W"
      }
    },
    {
      "cell_type": "markdown",
      "source": [
        "**1. Flatten a Nested List:**"
      ],
      "metadata": {
        "id": "vgiRjrAl-pgi"
      }
    },
    {
      "cell_type": "markdown",
      "source": [
        "Write a Python function that takes a nested list and flattens it into a single list, where all the elements\n",
        "are in a single dimension."
      ],
      "metadata": {
        "id": "Lt8O37BB-tkC"
      }
    },
    {
      "cell_type": "code",
      "source": [
        "def flatten(lst):\n",
        "    return [item for sublist in lst for item in sublist]\n",
        "\n",
        "input_list = [[1, 2], [3, 4], [5]]\n",
        "output_list = flatten(input_list)\n",
        "print(output_list)\n"
      ],
      "metadata": {
        "colab": {
          "base_uri": "https://localhost:8080/"
        },
        "id": "WEORrNHy-pMD",
        "outputId": "19fd92d5-1812-4f51-a7a9-3f9d3b003f73"
      },
      "execution_count": 10,
      "outputs": [
        {
          "output_type": "stream",
          "name": "stdout",
          "text": [
            "[1, 2, 3, 4, 5]\n"
          ]
        }
      ]
    },
    {
      "cell_type": "markdown",
      "source": [
        "**2. Accessing Nested List Elements:**"
      ],
      "metadata": {
        "id": "pL_kIGil-1UI"
      }
    },
    {
      "cell_type": "markdown",
      "source": [
        "Write a Python function that extracts a specific element from a nested list given its indices."
      ],
      "metadata": {
        "id": "prxP_Ldk-49g"
      }
    },
    {
      "cell_type": "code",
      "source": [
        "def access_nested_element(lst, indices):\n",
        "    for index in indices:\n",
        "        lst = lst[index]\n",
        "    return lst\n",
        "\n",
        "input_list = [[1, 2, 3], [4, 5, 6], [7, 8, 9]]\n",
        "indices = [1, 2]\n",
        "output = access_nested_element(input_list, indices)\n",
        "print(output)\n"
      ],
      "metadata": {
        "colab": {
          "base_uri": "https://localhost:8080/"
        },
        "id": "O51f2u2u-6_6",
        "outputId": "dc01226f-3354-41a6-f793-5c8b464c5e73"
      },
      "execution_count": 11,
      "outputs": [
        {
          "output_type": "stream",
          "name": "stdout",
          "text": [
            "6\n"
          ]
        }
      ]
    },
    {
      "cell_type": "markdown",
      "source": [
        "**3. Sum of All Elements in a Nested List:**"
      ],
      "metadata": {
        "id": "4sAk-_oE_A7K"
      }
    },
    {
      "cell_type": "markdown",
      "source": [
        "Write a Python function that calculates the sum of all the numbers in a nested list (regardless of depth)."
      ],
      "metadata": {
        "id": "nQyjqFYf_DXI"
      }
    },
    {
      "cell_type": "code",
      "source": [
        "def sum_nested(lst):\n",
        "    total = 0\n",
        "    for item in lst:\n",
        "        if isinstance(item, list):\n",
        "            total += sum_nested(item)\n",
        "        else:\n",
        "            total += item\n",
        "    return total\n",
        "\n",
        "input_list = [[1, 2], [3, [4, 5]], 6]\n",
        "output = sum_nested(input_list)\n",
        "print(output)\n"
      ],
      "metadata": {
        "colab": {
          "base_uri": "https://localhost:8080/"
        },
        "id": "avsU6rQr_Wmb",
        "outputId": "226a7ed9-5bcd-4814-c166-7f624e9b146c"
      },
      "execution_count": 12,
      "outputs": [
        {
          "output_type": "stream",
          "name": "stdout",
          "text": [
            "21\n"
          ]
        }
      ]
    },
    {
      "cell_type": "markdown",
      "source": [
        "**4. Remove Specific Element from a Nested List:**"
      ],
      "metadata": {
        "id": "w5UfS9Kf_aSz"
      }
    },
    {
      "cell_type": "code",
      "source": [
        "def remove_element(lst, elem):\n",
        "    for i in range(len(lst)):\n",
        "        if isinstance(lst[i], list):\n",
        "            lst[i] = remove_element(lst[i], elem)\n",
        "        else:\n",
        "            if lst[i] == elem:\n",
        "                lst.pop(i)\n",
        "                return remove_element(lst, elem)  # To recheck after removal\n",
        "    return lst\n",
        "\n",
        "input_list = [[1, 2], [3, 2], [4, 5]]\n",
        "elem = 2\n",
        "output = remove_element(input_list, elem)\n",
        "print(output)\n"
      ],
      "metadata": {
        "colab": {
          "base_uri": "https://localhost:8080/"
        },
        "id": "XKQQtojy_csZ",
        "outputId": "e9502d90-b6a7-4f50-910b-bc132850a22b"
      },
      "execution_count": 13,
      "outputs": [
        {
          "output_type": "stream",
          "name": "stdout",
          "text": [
            "[[1], [3], [4, 5]]\n"
          ]
        }
      ]
    },
    {
      "cell_type": "markdown",
      "source": [
        "**5. Find the Maximum Element in a Nested List:**"
      ],
      "metadata": {
        "id": "R8NzdRnx_lVn"
      }
    },
    {
      "cell_type": "markdown",
      "source": [
        "Write a Python function that finds the maximum element in a nested list (regardless of depth)."
      ],
      "metadata": {
        "id": "vDVQ5Z8E_pJL"
      }
    },
    {
      "cell_type": "code",
      "source": [
        "def find_max(lst):\n",
        "    max_val = float('-inf')\n",
        "    for item in lst:\n",
        "        if isinstance(item, list):\n",
        "            max_val = max(max_val, find_max(item))\n",
        "        else:\n",
        "            max_val = max(max_val, item)\n",
        "    return max_val\n",
        "\n",
        "input_list = [[1, 2], [3, [4, 5]], 6]\n",
        "output = find_max(input_list)\n",
        "print(output)\n"
      ],
      "metadata": {
        "colab": {
          "base_uri": "https://localhost:8080/"
        },
        "id": "oQeA8F0O_qjo",
        "outputId": "f151e2a9-c30a-41c9-cf50-7b1b1cac7abd"
      },
      "execution_count": 14,
      "outputs": [
        {
          "output_type": "stream",
          "name": "stdout",
          "text": [
            "6\n"
          ]
        }
      ]
    },
    {
      "cell_type": "markdown",
      "source": [
        "**6. Count Occurrences of an Element in a Nested List:**"
      ],
      "metadata": {
        "id": "-HIx4kYc_1qI"
      }
    },
    {
      "cell_type": "markdown",
      "source": [
        "Write a Python function that counts how many times a specific element appears in a nested list."
      ],
      "metadata": {
        "id": "geVbHwV5_45C"
      }
    },
    {
      "cell_type": "code",
      "source": [
        "def count_occurrences(lst, elem):\n",
        "    count = 0\n",
        "    for item in lst:\n",
        "        if isinstance(item, list):\n",
        "            count += count_occurrences(item, elem)\n",
        "        else:\n",
        "            if item == elem:\n",
        "                count += 1\n",
        "    return count\n",
        "\n",
        "input_list = [[1, 2], [2, 3], [2, 4]]\n",
        "elem = 2\n",
        "output = count_occurrences(input_list, elem)\n",
        "print(output)\n"
      ],
      "metadata": {
        "colab": {
          "base_uri": "https://localhost:8080/"
        },
        "id": "J5h7D2UPAFrS",
        "outputId": "bc38ab43-1a34-4d16-8211-ad74ac3327bd"
      },
      "execution_count": 15,
      "outputs": [
        {
          "output_type": "stream",
          "name": "stdout",
          "text": [
            "3\n"
          ]
        }
      ]
    },
    {
      "cell_type": "markdown",
      "source": [
        "**7. Flatten a List of Lists of Lists:**"
      ],
      "metadata": {
        "id": "4975-1CtAMgC"
      }
    },
    {
      "cell_type": "markdown",
      "source": [
        "Write a Python function that flattens a list of lists of lists into a single list, regardless of the depth."
      ],
      "metadata": {
        "id": "JhBIQrFTAOMl"
      }
    },
    {
      "cell_type": "code",
      "source": [
        "def deep_flatten(lst):\n",
        "    flat_list = []\n",
        "    for item in lst:\n",
        "        if isinstance(item, list):\n",
        "            flat_list.extend(deep_flatten(item))\n",
        "        else:\n",
        "            flat_list.append(item)\n",
        "    return flat_list\n",
        "\n",
        "input_list = [[[1, 2], [3, 4]], [[5, 6], [7, 8]]]\n",
        "output = deep_flatten(input_list)\n",
        "print(output)\n"
      ],
      "metadata": {
        "colab": {
          "base_uri": "https://localhost:8080/"
        },
        "id": "o6tv_B-cAPpv",
        "outputId": "0cc4d5b6-ec2f-479f-9642-db762ed5ea92"
      },
      "execution_count": 16,
      "outputs": [
        {
          "output_type": "stream",
          "name": "stdout",
          "text": [
            "[1, 2, 3, 4, 5, 6, 7, 8]\n"
          ]
        }
      ]
    },
    {
      "cell_type": "markdown",
      "source": [
        "**8. Nested List Average:**"
      ],
      "metadata": {
        "id": "FJRxea2LAUdZ"
      }
    },
    {
      "cell_type": "markdown",
      "source": [
        "Write a Python function that calculates the average of all elements in a nested list."
      ],
      "metadata": {
        "id": "z1GudrUpAZ6U"
      }
    },
    {
      "cell_type": "code",
      "source": [
        "def average_nested(lst):\n",
        "    total = 0\n",
        "    count = 0\n",
        "    def flatten_and_count(lst):\n",
        "        nonlocal total, count\n",
        "        for item in lst:\n",
        "            if isinstance(item, list):\n",
        "                flatten_and_count(item)\n",
        "            else:\n",
        "                total += item\n",
        "                count += 1\n",
        "    flatten_and_count(lst)\n",
        "    return total / count if count > 0 else 0\n",
        "\n",
        "input_list = [[1, 2], [3, 4], [5, 6]]\n",
        "output = average_nested(input_list)\n",
        "print(output)\n"
      ],
      "metadata": {
        "colab": {
          "base_uri": "https://localhost:8080/"
        },
        "id": "1rco7zrwAa8y",
        "outputId": "047929a2-0c3f-4e56-8e6f-9540a59acdbb"
      },
      "execution_count": 17,
      "outputs": [
        {
          "output_type": "stream",
          "name": "stdout",
          "text": [
            "3.5\n"
          ]
        }
      ]
    },
    {
      "cell_type": "markdown",
      "source": [
        "**10 To - Do - NumPy**"
      ],
      "metadata": {
        "id": "JBhA0wc2Ae6n"
      }
    },
    {
      "cell_type": "markdown",
      "source": [
        "**10.1 Basic Vector and Matrix Operation with Numpy.**"
      ],
      "metadata": {
        "id": "V2_xxCAgBDDe"
      }
    },
    {
      "cell_type": "markdown",
      "source": [
        "**Problem - 1: Array Creation:**"
      ],
      "metadata": {
        "id": "7RQfs0vYBFxz"
      }
    },
    {
      "cell_type": "markdown",
      "source": [
        "1. Initialize an empty array with size 2X2."
      ],
      "metadata": {
        "id": "Dk-8xKppBJH-"
      }
    },
    {
      "cell_type": "code",
      "source": [
        "import numpy as np\n",
        "\n",
        "empty_array = np.empty((2, 2))\n",
        "print(empty_array)\n"
      ],
      "metadata": {
        "colab": {
          "base_uri": "https://localhost:8080/"
        },
        "id": "N2GJWm0wBLMJ",
        "outputId": "f61743bd-5a5f-405f-c0a8-d7987ee3c1bc"
      },
      "execution_count": 18,
      "outputs": [
        {
          "output_type": "stream",
          "name": "stdout",
          "text": [
            "[[2.49695185e-316 0.00000000e+000]\n",
            " [2.33419537e-312 1.62374675e-319]]\n"
          ]
        }
      ]
    },
    {
      "cell_type": "markdown",
      "source": [
        "2. Initialize an all one array with size 4X2."
      ],
      "metadata": {
        "id": "O664twHbBToA"
      }
    },
    {
      "cell_type": "code",
      "source": [
        "import numpy as np\n",
        "\n",
        "ones_array = np.ones((4, 2))\n",
        "print(ones_array)\n"
      ],
      "metadata": {
        "colab": {
          "base_uri": "https://localhost:8080/"
        },
        "id": "KZWDDtKvBVuy",
        "outputId": "5f73096b-2208-4309-b67c-8c60e00fa684"
      },
      "execution_count": 19,
      "outputs": [
        {
          "output_type": "stream",
          "name": "stdout",
          "text": [
            "[[1. 1.]\n",
            " [1. 1.]\n",
            " [1. 1.]\n",
            " [1. 1.]]\n"
          ]
        }
      ]
    },
    {
      "cell_type": "markdown",
      "source": [
        "3. Return a new array of given shape and type, filled with fill value.{Hint: np.full}"
      ],
      "metadata": {
        "id": "6CZTWmsABZUU"
      }
    },
    {
      "cell_type": "code",
      "source": [
        "import numpy as np\n",
        "\n",
        "filled_array = np.full((3, 3), 1)\n",
        "print(filled_array)\n"
      ],
      "metadata": {
        "colab": {
          "base_uri": "https://localhost:8080/"
        },
        "id": "PwAosu_GBfjg",
        "outputId": "5a100c5e-d3cb-4e97-f6c8-4188b0beb7cf"
      },
      "execution_count": 21,
      "outputs": [
        {
          "output_type": "stream",
          "name": "stdout",
          "text": [
            "[[1 1 1]\n",
            " [1 1 1]\n",
            " [1 1 1]]\n"
          ]
        }
      ]
    },
    {
      "cell_type": "markdown",
      "source": [
        "4. Return a new array of zeros with same shape and type as a given array.{Hint: np.zeros like}"
      ],
      "metadata": {
        "id": "EiuOIdolBlV0"
      }
    },
    {
      "cell_type": "code",
      "source": [
        "import numpy as np\n",
        "\n",
        "array = np.array([[1, 2], [3, 4]])\n",
        "zeros_array = np.zeros_like(array)\n",
        "print(zeros_array)\n"
      ],
      "metadata": {
        "colab": {
          "base_uri": "https://localhost:8080/"
        },
        "id": "Sa-wAtnRBkn-",
        "outputId": "d15b0100-0493-4ee1-8de2-6fd93b6fea7a"
      },
      "execution_count": 22,
      "outputs": [
        {
          "output_type": "stream",
          "name": "stdout",
          "text": [
            "[[0 0]\n",
            " [0 0]]\n"
          ]
        }
      ]
    },
    {
      "cell_type": "markdown",
      "source": [
        "5. Return a new array of ones with same shape and type as a given array.{Hint: np.ones like}"
      ],
      "metadata": {
        "id": "rYKbVeXnBs6N"
      }
    },
    {
      "cell_type": "code",
      "source": [
        "import numpy as np\n",
        "\n",
        "array = np.array([[1, 2], [3, 4]])\n",
        "ones_array = np.ones_like(array)\n",
        "print(ones_array)\n"
      ],
      "metadata": {
        "colab": {
          "base_uri": "https://localhost:8080/"
        },
        "id": "wN3d1Pw4B1d1",
        "outputId": "1b50d02a-f283-439b-c9fe-438cf0b9b4bf"
      },
      "execution_count": 23,
      "outputs": [
        {
          "output_type": "stream",
          "name": "stdout",
          "text": [
            "[[1 1]\n",
            " [1 1]]\n"
          ]
        }
      ]
    },
    {
      "cell_type": "markdown",
      "source": [
        "6. For an existing list new_list = [1,2,3,4] convert to an numpy array.{Hint: np.array()}"
      ],
      "metadata": {
        "id": "dzqMg_B3B54m"
      }
    },
    {
      "cell_type": "code",
      "source": [
        "import numpy as np\n",
        "\n",
        "new_list = [1, 2, 3, 4]\n",
        "numpy_array = np.array(new_list)\n",
        "print(numpy_array)\n"
      ],
      "metadata": {
        "colab": {
          "base_uri": "https://localhost:8080/"
        },
        "id": "PaeeJFp2B8tu",
        "outputId": "f426cf87-60a8-4f62-83d9-ac2356b81946"
      },
      "execution_count": 24,
      "outputs": [
        {
          "output_type": "stream",
          "name": "stdout",
          "text": [
            "[1 2 3 4]\n"
          ]
        }
      ]
    },
    {
      "cell_type": "markdown",
      "source": [
        "**Problem - 2: Array Manipulation: Numerical Ranges and Array indexing:**"
      ],
      "metadata": {
        "id": "dCThXVAoCAVX"
      }
    },
    {
      "cell_type": "markdown",
      "source": [
        "1. Create an array with values ranging from 10 to 49. {Hint:np.arrange()}."
      ],
      "metadata": {
        "id": "D0rSy175CDyF"
      }
    },
    {
      "cell_type": "code",
      "source": [
        "import numpy as np\n",
        "\n",
        "array = np.arange(10, 50)\n",
        "print(array)\n"
      ],
      "metadata": {
        "colab": {
          "base_uri": "https://localhost:8080/"
        },
        "id": "gELD-z6GCGlV",
        "outputId": "7822b044-c274-4988-bcb5-efecd9a9dbc6"
      },
      "execution_count": 25,
      "outputs": [
        {
          "output_type": "stream",
          "name": "stdout",
          "text": [
            "[10 11 12 13 14 15 16 17 18 19 20 21 22 23 24 25 26 27 28 29 30 31 32 33\n",
            " 34 35 36 37 38 39 40 41 42 43 44 45 46 47 48 49]\n"
          ]
        }
      ]
    },
    {
      "cell_type": "markdown",
      "source": [
        "2. Create a 3X3 matrix with values ranging from 0 to 8.\n",
        "{Hint:look for np.reshape()}"
      ],
      "metadata": {
        "id": "wxEZ5x7BCKtc"
      }
    },
    {
      "cell_type": "code",
      "source": [
        "import numpy as np\n",
        "\n",
        "matrix = np.arange(9).reshape(3, 3)\n",
        "print(matrix)\n"
      ],
      "metadata": {
        "colab": {
          "base_uri": "https://localhost:8080/"
        },
        "id": "e7A3XWPZCMsl",
        "outputId": "b3f6a36d-42fd-4340-afc0-ba381e0d6571"
      },
      "execution_count": 26,
      "outputs": [
        {
          "output_type": "stream",
          "name": "stdout",
          "text": [
            "[[0 1 2]\n",
            " [3 4 5]\n",
            " [6 7 8]]\n"
          ]
        }
      ]
    },
    {
      "cell_type": "markdown",
      "source": [
        "3. Create a 3X3 identity matrix.{Hint:np.eye()}"
      ],
      "metadata": {
        "id": "TBAjuEr-CSdH"
      }
    },
    {
      "cell_type": "code",
      "source": [
        "import numpy as np\n",
        "\n",
        "identity_matrix = np.eye(3)\n",
        "print(identity_matrix)\n"
      ],
      "metadata": {
        "colab": {
          "base_uri": "https://localhost:8080/"
        },
        "id": "rdXhVhJCCWDm",
        "outputId": "c9094df1-5348-48bc-911f-1717403d12f2"
      },
      "execution_count": 27,
      "outputs": [
        {
          "output_type": "stream",
          "name": "stdout",
          "text": [
            "[[1. 0. 0.]\n",
            " [0. 1. 0.]\n",
            " [0. 0. 1.]]\n"
          ]
        }
      ]
    },
    {
      "cell_type": "markdown",
      "source": [
        "4. Create a random array of size 30 and find the mean of the array.\n",
        "{Hint:check for np.random.random() and array.mean() function}"
      ],
      "metadata": {
        "id": "CTC9lRdpCXle"
      }
    },
    {
      "cell_type": "code",
      "source": [
        "import numpy as np\n",
        "\n",
        "random_array = np.random.random(30)\n",
        "mean_value = random_array.mean()\n",
        "print(mean_value)\n"
      ],
      "metadata": {
        "colab": {
          "base_uri": "https://localhost:8080/"
        },
        "id": "iz4lCZSmCZg-",
        "outputId": "85d3ac41-0cdc-4c18-c641-5153c4170a20"
      },
      "execution_count": 28,
      "outputs": [
        {
          "output_type": "stream",
          "name": "stdout",
          "text": [
            "0.499624880624343\n"
          ]
        }
      ]
    },
    {
      "cell_type": "markdown",
      "source": [
        "5. Create a 10X10 array with random values and find the minimum and maximum values."
      ],
      "metadata": {
        "id": "_m3Smnt0Ccks"
      }
    },
    {
      "cell_type": "code",
      "source": [
        "import numpy as np\n",
        "\n",
        "random_array = np.random.random((10, 10))\n",
        "min_value = random_array.min()\n",
        "max_value = random_array.max()\n",
        "print(\"Minimum value:\", min_value)\n",
        "print(\"Maximum value:\", max_value)\n"
      ],
      "metadata": {
        "colab": {
          "base_uri": "https://localhost:8080/"
        },
        "id": "bzF2JkC0CfdY",
        "outputId": "684a2260-6056-4178-b216-8d5540f55ec8"
      },
      "execution_count": 29,
      "outputs": [
        {
          "output_type": "stream",
          "name": "stdout",
          "text": [
            "Minimum value: 0.017507074550964563\n",
            "Maximum value: 0.9843249282162617\n"
          ]
        }
      ]
    },
    {
      "cell_type": "markdown",
      "source": [
        "6. Create a zero array of size 10 and replace 5th element with 1."
      ],
      "metadata": {
        "id": "dCaC_xIACkgX"
      }
    },
    {
      "cell_type": "code",
      "source": [
        "import numpy as np\n",
        "\n",
        "zero_array = np.zeros(10)\n",
        "zero_array[4] = 1\n",
        "print(zero_array)\n"
      ],
      "metadata": {
        "colab": {
          "base_uri": "https://localhost:8080/"
        },
        "id": "i7n_s8GfCm6Z",
        "outputId": "7b0ca30e-9d78-45f0-d7a2-4231a352da23"
      },
      "execution_count": 30,
      "outputs": [
        {
          "output_type": "stream",
          "name": "stdout",
          "text": [
            "[0. 0. 0. 0. 1. 0. 0. 0. 0. 0.]\n"
          ]
        }
      ]
    },
    {
      "cell_type": "markdown",
      "source": [
        "7. Reverse an array arr = [1,2,0,0,4,0]."
      ],
      "metadata": {
        "id": "h9e1NZphCrmC"
      }
    },
    {
      "cell_type": "code",
      "source": [
        "import numpy as np\n",
        "\n",
        "arr = [1, 2, 0, 0, 4, 0]\n",
        "reversed_arr = np.array(arr)[::-1]\n",
        "print(reversed_arr)\n"
      ],
      "metadata": {
        "colab": {
          "base_uri": "https://localhost:8080/"
        },
        "id": "3ZX5Y5C5Cxk5",
        "outputId": "25c154ee-8d16-4d2b-e1cf-7557dc5ea499"
      },
      "execution_count": 31,
      "outputs": [
        {
          "output_type": "stream",
          "name": "stdout",
          "text": [
            "[0 4 0 0 2 1]\n"
          ]
        }
      ]
    },
    {
      "cell_type": "markdown",
      "source": [
        "8. Create a 2d array with 1 on border and 0 inside."
      ],
      "metadata": {
        "id": "q3_eS1hCC0xU"
      }
    },
    {
      "cell_type": "code",
      "source": [
        "import numpy as np\n",
        "\n",
        "array = np.ones((5, 5))\n",
        "array[1:-1, 1:-1] = 0\n",
        "print(array)\n"
      ],
      "metadata": {
        "colab": {
          "base_uri": "https://localhost:8080/"
        },
        "id": "fVBQJg-BC3p7",
        "outputId": "a0e20d37-e100-4a63-c596-523470d6a25e"
      },
      "execution_count": 32,
      "outputs": [
        {
          "output_type": "stream",
          "name": "stdout",
          "text": [
            "[[1. 1. 1. 1. 1.]\n",
            " [1. 0. 0. 0. 1.]\n",
            " [1. 0. 0. 0. 1.]\n",
            " [1. 0. 0. 0. 1.]\n",
            " [1. 1. 1. 1. 1.]]\n"
          ]
        }
      ]
    },
    {
      "cell_type": "markdown",
      "source": [
        "9. Create a 8X8 matrix and fill it with a checkerboard pattern."
      ],
      "metadata": {
        "id": "ymn8VYnnC987"
      }
    },
    {
      "cell_type": "code",
      "source": [
        "import numpy as np\n",
        "\n",
        "checkerboard = np.zeros((8, 8), dtype=int)\n",
        "checkerboard[1::2, ::2] = 1\n",
        "checkerboard[::2, 1::2] = 1\n",
        "print(checkerboard)\n"
      ],
      "metadata": {
        "colab": {
          "base_uri": "https://localhost:8080/"
        },
        "id": "lQ9J5_eGDADz",
        "outputId": "4a19176c-8151-4388-8cbb-c1cd98957781"
      },
      "execution_count": 33,
      "outputs": [
        {
          "output_type": "stream",
          "name": "stdout",
          "text": [
            "[[0 1 0 1 0 1 0 1]\n",
            " [1 0 1 0 1 0 1 0]\n",
            " [0 1 0 1 0 1 0 1]\n",
            " [1 0 1 0 1 0 1 0]\n",
            " [0 1 0 1 0 1 0 1]\n",
            " [1 0 1 0 1 0 1 0]\n",
            " [0 1 0 1 0 1 0 1]\n",
            " [1 0 1 0 1 0 1 0]]\n"
          ]
        }
      ]
    },
    {
      "cell_type": "markdown",
      "source": [
        "**Problem - 3: Array Operations:**"
      ],
      "metadata": {
        "id": "N6yp37-jDGr3"
      }
    },
    {
      "cell_type": "markdown",
      "source": [
        "For the following arrays:\n",
        "x = np.array([[1,2],[3,5]]) and y = np.array([[5,6],[7,8]]);\n",
        "v = np.array([9,10]) and w = np.array([11,12]);"
      ],
      "metadata": {
        "id": "YUFl6pvqDJ48"
      }
    },
    {
      "cell_type": "markdown",
      "source": [
        "1. Add the two array."
      ],
      "metadata": {
        "id": "dDPQSrTmDMsC"
      }
    },
    {
      "cell_type": "code",
      "source": [
        "import numpy as np\n",
        "\n",
        "x = np.array([[1, 2], [3, 5]])\n",
        "y = np.array([[5, 6], [7, 8]])\n",
        "v = np.array([9, 10])\n",
        "w = np.array([11, 12])\n",
        "\n",
        "result_xy = x + y\n",
        "result_vw = v + w\n",
        "\n",
        "print(\"Sum of x and y:\")\n",
        "print(result_xy)\n",
        "\n",
        "print(\"Sum of v and w:\")\n",
        "print(result_vw)\n"
      ],
      "metadata": {
        "colab": {
          "base_uri": "https://localhost:8080/"
        },
        "id": "cARHhwRZDO7A",
        "outputId": "e76458c0-38a1-481f-dc07-d7089b2c1385"
      },
      "execution_count": 35,
      "outputs": [
        {
          "output_type": "stream",
          "name": "stdout",
          "text": [
            "Sum of x and y:\n",
            "[[ 6  8]\n",
            " [10 13]]\n",
            "Sum of v and w:\n",
            "[20 22]\n"
          ]
        }
      ]
    },
    {
      "cell_type": "markdown",
      "source": [
        "2. Subtract the two array."
      ],
      "metadata": {
        "id": "xzgH5eJKDoUM"
      }
    },
    {
      "cell_type": "code",
      "source": [
        "import numpy as np\n",
        "\n",
        "x = np.array([[1, 2], [3, 5]])\n",
        "y = np.array([[5, 6], [7, 8]])\n",
        "v = np.array([9, 10])\n",
        "w = np.array([11, 12])\n",
        "\n",
        "result_xy_sub = x - y\n",
        "result_vw_sub = v - w\n",
        "\n",
        "print(\"Difference of x and y:\")\n",
        "print(result_xy_sub)\n",
        "\n",
        "print(\"Difference of v and w:\")\n",
        "print(result_vw_sub)\n"
      ],
      "metadata": {
        "colab": {
          "base_uri": "https://localhost:8080/"
        },
        "id": "7s8SZJAhDo4y",
        "outputId": "039cb86b-009c-40d7-cbcd-a9bb1e0a2497"
      },
      "execution_count": 36,
      "outputs": [
        {
          "output_type": "stream",
          "name": "stdout",
          "text": [
            "Difference of x and y:\n",
            "[[-4 -4]\n",
            " [-4 -3]]\n",
            "Difference of v and w:\n",
            "[-2 -2]\n"
          ]
        }
      ]
    },
    {
      "cell_type": "markdown",
      "source": [
        "3. Multiply the array with any integers of your choice."
      ],
      "metadata": {
        "id": "3GiATIoADs22"
      }
    },
    {
      "cell_type": "code",
      "source": [
        "import numpy as np\n",
        "\n",
        "x = np.array([[1, 2], [3, 5]])\n",
        "y = np.array([[5, 6], [7, 8]])\n",
        "v = np.array([9, 10])\n",
        "w = np.array([11, 12])\n",
        "\n",
        "multiplier = 3\n",
        "\n",
        "result_x_mult = x * multiplier\n",
        "result_y_mult = y * multiplier\n",
        "result_v_mult = v * multiplier\n",
        "result_w_mult = w * multiplier\n",
        "\n",
        "print(\"Multiplication of x with 3:\")\n",
        "print(result_x_mult)\n",
        "\n",
        "print(\"Multiplication of y with 3:\")\n",
        "print(result_y_mult)\n",
        "\n",
        "print(\"Multiplication of v with 3:\")\n",
        "print(result_v_mult)\n",
        "\n",
        "print(\"Multiplication of w with 3:\")\n",
        "print(result_w_mult)\n"
      ],
      "metadata": {
        "colab": {
          "base_uri": "https://localhost:8080/"
        },
        "id": "FWNWS4ByDvBZ",
        "outputId": "faecc31e-3c6f-4bdd-f2ed-6912d3cc9c49"
      },
      "execution_count": 38,
      "outputs": [
        {
          "output_type": "stream",
          "name": "stdout",
          "text": [
            "Multiplication of x with 3:\n",
            "[[ 3  6]\n",
            " [ 9 15]]\n",
            "Multiplication of y with 3:\n",
            "[[15 18]\n",
            " [21 24]]\n",
            "Multiplication of v with 3:\n",
            "[27 30]\n",
            "Multiplication of w with 3:\n",
            "[33 36]\n"
          ]
        }
      ]
    },
    {
      "cell_type": "markdown",
      "source": [
        "4. Find the square of each element of the array."
      ],
      "metadata": {
        "id": "HyfTiL1qEFzI"
      }
    },
    {
      "cell_type": "code",
      "source": [
        "import numpy as np\n",
        "\n",
        "x = np.array([[1, 2], [3, 5]])\n",
        "y = np.array([[5, 6], [7, 8]])\n",
        "v = np.array([9, 10])\n",
        "w = np.array([11, 12])\n",
        "\n",
        "result_x_square = np.square(x)\n",
        "result_y_square = np.square(y)\n",
        "result_v_square = np.square(v)\n",
        "result_w_square = np.square(w)\n",
        "\n",
        "print(\"Square of each element in x:\")\n",
        "print(result_x_square)\n",
        "\n",
        "print(\"Square of each element in y:\")\n",
        "print(result_y_square)\n",
        "\n",
        "print(\"Square of each element in v:\")\n",
        "print(result_v_square)\n",
        "\n",
        "print(\"Square of each element in w:\")\n",
        "print(result_w_square)\n"
      ],
      "metadata": {
        "colab": {
          "base_uri": "https://localhost:8080/"
        },
        "id": "daRyJntYEL5E",
        "outputId": "e0e2ecf6-dec5-43dc-ed3e-cccdfc2fb126"
      },
      "execution_count": 39,
      "outputs": [
        {
          "output_type": "stream",
          "name": "stdout",
          "text": [
            "Square of each element in x:\n",
            "[[ 1  4]\n",
            " [ 9 25]]\n",
            "Square of each element in y:\n",
            "[[25 36]\n",
            " [49 64]]\n",
            "Square of each element in v:\n",
            "[ 81 100]\n",
            "Square of each element in w:\n",
            "[121 144]\n"
          ]
        }
      ]
    },
    {
      "cell_type": "markdown",
      "source": [
        "5. Find the dot product between: v(and)w ; x(and)v ; x(and)y."
      ],
      "metadata": {
        "id": "gGqT2N6CEODZ"
      }
    },
    {
      "cell_type": "code",
      "source": [
        "import numpy as np\n",
        "\n",
        "x = np.array([[1, 2], [3, 5]])\n",
        "y = np.array([[5, 6], [7, 8]])\n",
        "v = np.array([9, 10])\n",
        "w = np.array([11, 12])\n",
        "\n",
        "dot_vw = np.dot(v, w)\n",
        "dot_xv = np.dot(x, v)\n",
        "dot_xy = np.dot(x, y)\n",
        "\n",
        "print(\"Dot product of v and w:\")\n",
        "print(dot_vw)\n",
        "\n",
        "print(\"Dot product of x and v:\")\n",
        "print(dot_xv)\n",
        "\n",
        "print(\"Dot product of x and y:\")\n",
        "print(dot_xy)\n"
      ],
      "metadata": {
        "colab": {
          "base_uri": "https://localhost:8080/"
        },
        "id": "w8rkfdtQER4T",
        "outputId": "e7355e35-49dc-495f-f482-4dd8ed096beb"
      },
      "execution_count": 40,
      "outputs": [
        {
          "output_type": "stream",
          "name": "stdout",
          "text": [
            "Dot product of v and w:\n",
            "219\n",
            "Dot product of x and v:\n",
            "[29 77]\n",
            "Dot product of x and y:\n",
            "[[19 22]\n",
            " [50 58]]\n"
          ]
        }
      ]
    },
    {
      "cell_type": "markdown",
      "source": [
        "6. Concatenate x(and)y along row and Concatenate v(and)w along column.\n",
        "{Hint:try np.concatenate() or np.vstack() functions."
      ],
      "metadata": {
        "id": "GIu372UrEXQ2"
      }
    },
    {
      "cell_type": "code",
      "source": [
        "import numpy as np\n",
        "\n",
        "x = np.array([[1, 2], [3, 5]])\n",
        "y = np.array([[5, 6], [7, 8]])\n",
        "v = np.array([9, 10])\n",
        "w = np.array([11, 12])\n",
        "\n",
        "concat_xy_row = np.concatenate((x, y), axis=0)\n",
        "concat_vw_column = np.concatenate((v[:, np.newaxis], w[:, np.newaxis]), axis=1)\n",
        "\n",
        "print(\"Concatenate x and y along row:\")\n",
        "print(concat_xy_row)\n",
        "\n",
        "print(\"Concatenate v and w along column:\")\n",
        "print(concat_vw_column)\n"
      ],
      "metadata": {
        "colab": {
          "base_uri": "https://localhost:8080/"
        },
        "id": "JyfBJ_xgEaDv",
        "outputId": "bd485edb-9ce8-4d3f-e916-fbe3080b1510"
      },
      "execution_count": 41,
      "outputs": [
        {
          "output_type": "stream",
          "name": "stdout",
          "text": [
            "Concatenate x and y along row:\n",
            "[[1 2]\n",
            " [3 5]\n",
            " [5 6]\n",
            " [7 8]]\n",
            "Concatenate v and w along column:\n",
            "[[ 9 11]\n",
            " [10 12]]\n"
          ]
        }
      ]
    },
    {
      "cell_type": "markdown",
      "source": [
        "7. Concatenate x(and)v; if you get an error, observe and explain why did you get the error?"
      ],
      "metadata": {
        "id": "sMq_lgRMEhHz"
      }
    },
    {
      "cell_type": "code",
      "source": [
        "import numpy as np\n",
        "\n",
        "x = np.array([[1, 2], [3, 5]])\n",
        "v = np.array([9, 10])\n",
        "\n",
        "try:\n",
        "    concat_xv = np.concatenate((x, v), axis=1)\n",
        "    print(\"Concatenate x and v:\")\n",
        "    print(concat_xv)\n",
        "except ValueError as e:\n",
        "    print(f\"Error: {e}\")\n"
      ],
      "metadata": {
        "colab": {
          "base_uri": "https://localhost:8080/"
        },
        "id": "5QR4lFsKEkUM",
        "outputId": "a4bfc17e-e73c-43a9-d6b3-1e1cc51ce54d"
      },
      "execution_count": 42,
      "outputs": [
        {
          "output_type": "stream",
          "name": "stdout",
          "text": [
            "Error: all the input arrays must have same number of dimensions, but the array at index 0 has 2 dimension(s) and the array at index 1 has 1 dimension(s)\n"
          ]
        }
      ]
    },
    {
      "cell_type": "markdown",
      "source": [
        " In order to concatenate them along the columns, they must have the same number of rows.\n",
        "\n"
      ],
      "metadata": {
        "id": "JMwCfEshEtTS"
      }
    },
    {
      "cell_type": "markdown",
      "source": [
        "**Problem - 4: Matrix Operations:**"
      ],
      "metadata": {
        "id": "HpQG_KaOEwFo"
      }
    },
    {
      "cell_type": "markdown",
      "source": [
        "A = np.array([[3,4],[7,8]]) and B = np.array([[5,3],[2,1]]);\n",
        "Prove following with Numpy:"
      ],
      "metadata": {
        "id": "b21JW2pJE8tl"
      }
    },
    {
      "cell_type": "markdown",
      "source": [
        "1. Prove A.A^−1 = I."
      ],
      "metadata": {
        "id": "YBklgPrPFBNn"
      }
    },
    {
      "cell_type": "code",
      "source": [
        "import numpy as np\n",
        "\n",
        "A = np.array([[3, 4], [7, 8]])\n",
        "A_inv = np.linalg.inv(A)\n",
        "result = np.dot(A, A_inv)\n",
        "\n",
        "print(result)\n"
      ],
      "metadata": {
        "colab": {
          "base_uri": "https://localhost:8080/"
        },
        "id": "eC-dgAB9FDyT",
        "outputId": "a3912b7f-0818-4aab-9164-036dde01dcf5"
      },
      "execution_count": 43,
      "outputs": [
        {
          "output_type": "stream",
          "name": "stdout",
          "text": [
            "[[1.00000000e+00 0.00000000e+00]\n",
            " [1.77635684e-15 1.00000000e+00]]\n"
          ]
        }
      ]
    },
    {
      "cell_type": "markdown",
      "source": [
        "2. Prove AB ̸= BA."
      ],
      "metadata": {
        "id": "yGzU3XpzFYHr"
      }
    },
    {
      "cell_type": "code",
      "source": [
        "import numpy as np\n",
        "\n",
        "A = np.array([[3, 4], [7, 8]])\n",
        "B = np.array([[5, 3], [2, 1]])\n",
        "\n",
        "AB = np.dot(A, B)\n",
        "BA = np.dot(B, A)\n",
        "\n",
        "print(\"AB:\")\n",
        "print(AB)\n",
        "\n",
        "print(\"BA:\")\n",
        "print(BA)\n"
      ],
      "metadata": {
        "colab": {
          "base_uri": "https://localhost:8080/"
        },
        "id": "TEer0UCbFfhU",
        "outputId": "27973cf1-f9cb-49bd-80b1-a504d7d872c7"
      },
      "execution_count": 44,
      "outputs": [
        {
          "output_type": "stream",
          "name": "stdout",
          "text": [
            "AB:\n",
            "[[23 13]\n",
            " [51 29]]\n",
            "BA:\n",
            "[[36 44]\n",
            " [13 16]]\n"
          ]
        }
      ]
    },
    {
      "cell_type": "markdown",
      "source": [
        "3. Prove (AB)^T = B^T * A^T"
      ],
      "metadata": {
        "id": "NTng-EDRFieH"
      }
    },
    {
      "cell_type": "code",
      "source": [
        "import numpy as np\n",
        "\n",
        "A = np.array([[3, 4], [7, 8]])\n",
        "B = np.array([[5, 3], [2, 1]])\n",
        "\n",
        "AB_T = np.transpose(np.dot(A, B))\n",
        "B_T_A_T = np.dot(np.transpose(B), np.transpose(A))\n",
        "\n",
        "print(\"Transpose of AB:\")\n",
        "print(AB_T)\n",
        "\n",
        "print(\"B^T * A^T:\")\n",
        "print(B_T_A_T)\n"
      ],
      "metadata": {
        "colab": {
          "base_uri": "https://localhost:8080/"
        },
        "id": "ZURsbktFFpz7",
        "outputId": "07496de2-09a7-4ce3-81fb-53015ddbdb99"
      },
      "execution_count": 45,
      "outputs": [
        {
          "output_type": "stream",
          "name": "stdout",
          "text": [
            "Transpose of AB:\n",
            "[[23 51]\n",
            " [13 29]]\n",
            "B^T * A^T:\n",
            "[[23 51]\n",
            " [13 29]]\n"
          ]
        }
      ]
    },
    {
      "cell_type": "markdown",
      "source": [
        "• Solve the following system of Linear equation using Inverse Methods.\n",
        "\n",
        "2x − 3y + z = −1,\n",
        "x − y + 2z = −3,\n",
        "3x + y − z = 9"
      ],
      "metadata": {
        "id": "XEvzEzN2F_VQ"
      }
    },
    {
      "cell_type": "code",
      "source": [
        "import numpy as np\n",
        "\n",
        "A = np.array([[2, -3, 1], [1, -1, 2], [3, 1, -1]])\n",
        "B = np.array([-1, -3, 9])\n",
        "\n",
        "A_inv = np.linalg.inv(A)\n",
        "X = np.dot(A_inv, B)\n",
        "\n",
        "print(X)\n"
      ],
      "metadata": {
        "colab": {
          "base_uri": "https://localhost:8080/"
        },
        "id": "v5Yh4JVtGDJb",
        "outputId": "0c812168-1451-43a6-c70a-bdf25dbd3f13"
      },
      "execution_count": 46,
      "outputs": [
        {
          "output_type": "stream",
          "name": "stdout",
          "text": [
            "[ 2.  1. -2.]\n"
          ]
        }
      ]
    },
    {
      "cell_type": "markdown",
      "source": [
        "**10.2 Experiment: How Fast is Numpy?**"
      ],
      "metadata": {
        "id": "5VtcDkbZGOZL"
      }
    },
    {
      "cell_type": "markdown",
      "source": [
        "**1. Element-wise Addition:**"
      ],
      "metadata": {
        "id": "is6NIUsQGX8G"
      }
    },
    {
      "cell_type": "markdown",
      "source": [
        "Using Python Lists, perform element-wise addition of two lists of size 1, 000, 000. Measure\n",
        "and Print the time taken for this operation."
      ],
      "metadata": {
        "id": "O4OMQ_3yGbA9"
      }
    },
    {
      "cell_type": "code",
      "source": [
        "import time\n",
        "\n",
        "list1 = [i for i in range(1000000)]\n",
        "list2 = [i for i in range(1000000, 2000000)]\n",
        "\n",
        "start_time = time.time()\n",
        "\n",
        "result = [a + b for a, b in zip(list1, list2)]\n",
        "\n",
        "end_time = time.time()\n",
        "\n",
        "print(\"Time taken:\", end_time - start_time)\n"
      ],
      "metadata": {
        "colab": {
          "base_uri": "https://localhost:8080/"
        },
        "id": "hAyWCkukGh-I",
        "outputId": "c3538841-aa9a-4a1f-dad9-b9f544f745bb"
      },
      "execution_count": 47,
      "outputs": [
        {
          "output_type": "stream",
          "name": "stdout",
          "text": [
            "Time taken: 0.2980220317840576\n"
          ]
        }
      ]
    },
    {
      "cell_type": "markdown",
      "source": [
        "Using Numpy Arrays, Repeat the calculation and measure and print the time taken for\n",
        "this operation."
      ],
      "metadata": {
        "id": "N9MbZn2ZGwXY"
      }
    },
    {
      "cell_type": "code",
      "source": [
        "import numpy as np\n",
        "import time\n",
        "\n",
        "array1 = np.arange(1000000)\n",
        "array2 = np.arange(1000000, 2000000)\n",
        "\n",
        "start_time = time.time()\n",
        "\n",
        "result_np = array1 + array2\n",
        "\n",
        "end_time = time.time()\n",
        "\n",
        "print(\"Time taken:\", end_time - start_time)\n"
      ],
      "metadata": {
        "colab": {
          "base_uri": "https://localhost:8080/"
        },
        "id": "CJg6ikjOGyR9",
        "outputId": "c87b95f9-48f1-4c99-f42d-3d5c29010ef7"
      },
      "execution_count": 48,
      "outputs": [
        {
          "output_type": "stream",
          "name": "stdout",
          "text": [
            "Time taken: 0.014177799224853516\n"
          ]
        }
      ]
    },
    {
      "cell_type": "markdown",
      "source": [
        "**Element-wise Multiplication**"
      ],
      "metadata": {
        "id": "Bwxv_3sbG7Z0"
      }
    },
    {
      "cell_type": "markdown",
      "source": [
        "Using Python Lists, perform element-wise multiplication of two lists of size 1, 000, 000.\n",
        "Measure and Print the time taken for this operation."
      ],
      "metadata": {
        "id": "vdBq9TrUG9o4"
      }
    },
    {
      "cell_type": "code",
      "source": [
        "import time\n",
        "\n",
        "list1 = [i for i in range(1000000)]\n",
        "list2 = [i for i in range(1000000, 2000000)]\n",
        "\n",
        "start_time = time.time()\n",
        "\n",
        "result_mul = [a * b for a, b in zip(list1, list2)]\n",
        "\n",
        "end_time = time.time()\n",
        "\n",
        "print(\"Time taken for element-wise multiplication:\", end_time - start_time)\n"
      ],
      "metadata": {
        "colab": {
          "base_uri": "https://localhost:8080/"
        },
        "id": "qrOiNqbFHBmu",
        "outputId": "3ff29c84-7e12-48eb-b4ec-1a4ca13d0c01"
      },
      "execution_count": 49,
      "outputs": [
        {
          "output_type": "stream",
          "name": "stdout",
          "text": [
            "Time taken for element-wise multiplication: 0.1319880485534668\n"
          ]
        }
      ]
    },
    {
      "cell_type": "markdown",
      "source": [
        "Using Numpy Arrays, Repeat the calculation and measure and print the time taken for\n",
        "this operation."
      ],
      "metadata": {
        "id": "JKvbaMo9HISe"
      }
    },
    {
      "cell_type": "code",
      "source": [
        "import numpy as np\n",
        "import time\n",
        "\n",
        "list1 = np.arange(1000000)\n",
        "list2 = np.arange(1000000, 2000000)\n",
        "\n",
        "start_time = time.time()\n",
        "\n",
        "result_mul = list1 * list2\n",
        "\n",
        "end_time = time.time()\n",
        "\n",
        "print(\"Time taken for element-wise multiplication:\", end_time - start_time)\n"
      ],
      "metadata": {
        "colab": {
          "base_uri": "https://localhost:8080/"
        },
        "id": "i38WFJtMHJxp",
        "outputId": "a69a67a2-a9f6-4bdf-9d3c-b550c377a797"
      },
      "execution_count": 51,
      "outputs": [
        {
          "output_type": "stream",
          "name": "stdout",
          "text": [
            "Time taken for element-wise multiplication: 0.017601728439331055\n"
          ]
        }
      ]
    },
    {
      "cell_type": "markdown",
      "source": [
        "**3. Dot Product**"
      ],
      "metadata": {
        "id": "eFkyR6chHrM0"
      }
    },
    {
      "cell_type": "markdown",
      "source": [
        "• Using Python Lists, compute the dot product of two lists of size 1, 000, 000. Measure and\n",
        "Print the time taken for this operation."
      ],
      "metadata": {
        "id": "mZV9Uzr_Hu-_"
      }
    },
    {
      "cell_type": "code",
      "source": [
        "import time\n",
        "\n",
        "list1 = [i for i in range(1000000)]\n",
        "list2 = [i for i in range(1000000)]\n",
        "\n",
        "start_time = time.time()\n",
        "\n",
        "dot_product = sum(a * b for a, b in zip(list1, list2))\n",
        "\n",
        "end_time = time.time()\n",
        "\n",
        "print(\"Time taken for dot product:\", end_time - start_time)\n"
      ],
      "metadata": {
        "colab": {
          "base_uri": "https://localhost:8080/"
        },
        "id": "IuJyriYDHwCA",
        "outputId": "1826fc40-afd8-4690-9c6d-6f95da8bd9be"
      },
      "execution_count": 52,
      "outputs": [
        {
          "output_type": "stream",
          "name": "stdout",
          "text": [
            "Time taken for dot product: 0.08191609382629395\n"
          ]
        }
      ]
    },
    {
      "cell_type": "markdown",
      "source": [
        "Using Numpy Arrays, Repeat the calculation and measure and print the time taken for\n",
        "this operation."
      ],
      "metadata": {
        "id": "I81eC_3eH0l6"
      }
    },
    {
      "cell_type": "code",
      "source": [
        "import numpy as np\n",
        "import time\n",
        "\n",
        "list1 = np.arange(1000000)\n",
        "list2 = np.arange(1000000)\n",
        "\n",
        "start_time = time.time()\n",
        "\n",
        "dot_product = np.dot(list1, list2)\n",
        "\n",
        "end_time = time.time()\n",
        "\n",
        "print(\"Time taken for dot product:\", end_time - start_time)\n"
      ],
      "metadata": {
        "colab": {
          "base_uri": "https://localhost:8080/"
        },
        "id": "E-IHgP20H2h6",
        "outputId": "15837aa6-a42b-464a-ba03-2fdc8e14b621"
      },
      "execution_count": 53,
      "outputs": [
        {
          "output_type": "stream",
          "name": "stdout",
          "text": [
            "Time taken for dot product: 0.0021042823791503906\n"
          ]
        }
      ]
    },
    {
      "cell_type": "markdown",
      "source": [
        "**4. Matrix Multiplication**"
      ],
      "metadata": {
        "id": "B0wHsCxNH7Ek"
      }
    },
    {
      "cell_type": "markdown",
      "source": [
        "Using Python lists, perform matrix multiplication of two matrices of size 1000x1000. Mea-\n",
        "sure and print the time taken for this operation."
      ],
      "metadata": {
        "id": "lMz_lfeYICN9"
      }
    },
    {
      "cell_type": "code",
      "source": [
        "import time\n",
        "\n",
        "matrix1 = [[i for i in range(1000)] for j in range(1000)]\n",
        "matrix2 = [[i for i in range(1000)] for j in range(1000)]\n",
        "\n",
        "start_time = time.time()\n",
        "\n",
        "result = [[sum(matrix1[i][k] * matrix2[k][j] for k in range(1000)) for j in range(1000)] for i in range(1000)]\n",
        "\n",
        "end_time = time.time()\n",
        "\n",
        "print(\"Time taken for matrix multiplication:\", end_time - start_time)\n"
      ],
      "metadata": {
        "colab": {
          "base_uri": "https://localhost:8080/"
        },
        "id": "8zt8XKxWIDZz",
        "outputId": "09397eb5-4c7d-42ae-a7bd-f45928ce6b53"
      },
      "execution_count": 54,
      "outputs": [
        {
          "output_type": "stream",
          "name": "stdout",
          "text": [
            "Time taken for matrix multiplication: 196.5520122051239\n"
          ]
        }
      ]
    },
    {
      "cell_type": "markdown",
      "source": [
        "Using NumPy arrays, perform matrix multiplication of two matrices of size 1000x1000.\n",
        "Measure and print the time taken for this operation."
      ],
      "metadata": {
        "id": "SnEcxipvIIzp"
      }
    },
    {
      "cell_type": "code",
      "source": [
        "import numpy as np\n",
        "import time\n",
        "\n",
        "matrix1 = np.random.rand(1000, 1000)\n",
        "matrix2 = np.random.rand(1000, 1000)\n",
        "\n",
        "start_time = time.time()\n",
        "\n",
        "result = np.dot(matrix1, matrix2)\n",
        "\n",
        "end_time = time.time()\n",
        "\n",
        "print(\"Time taken for matrix multiplication:\", end_time - start_time)\n"
      ],
      "metadata": {
        "colab": {
          "base_uri": "https://localhost:8080/"
        },
        "id": "OhHSN55HINsa",
        "outputId": "19605072-97ad-48cf-d74d-28888f206aaf"
      },
      "execution_count": 55,
      "outputs": [
        {
          "output_type": "stream",
          "name": "stdout",
          "text": [
            "Time taken for matrix multiplication: 0.1375439167022705\n"
          ]
        }
      ]
    }
  ]
}